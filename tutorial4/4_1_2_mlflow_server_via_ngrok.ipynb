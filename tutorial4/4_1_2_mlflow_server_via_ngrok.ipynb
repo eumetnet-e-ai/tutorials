{
 "cells": [
  {
   "cell_type": "code",
   "execution_count": null,
   "metadata": {
    "colab": {
     "base_uri": "https://localhost:8080/"
    },
    "id": "alzT-_Q7OFyl",
    "outputId": "c8bc38c4-961f-46b2-d2d6-6e7b7a17c5f1"
   },
   "outputs": [],
   "source": [
    "!pip install pyngrok"
   ]
  },
  {
   "cell_type": "code",
   "execution_count": null,
   "metadata": {
    "colab": {
     "base_uri": "https://localhost:8080/"
    },
    "id": "5wr-_JqjOiWy",
    "outputId": "9fe28cb4-ffd0-4312-e2f0-239f3513a70c"
   },
   "outputs": [],
   "source": [
    "from pyngrok import ngrok\n",
    "ngrok.set_auth_token(\"xxx\")"
   ]
  },
  {
   "cell_type": "code",
   "execution_count": null,
   "metadata": {
    "colab": {
     "base_uri": "https://localhost:8080/"
    },
    "id": "xcUt_DTOOokx",
    "outputId": "31e54521-2580-4d79-fa99-38a8e0fc37b3"
   },
   "outputs": [],
   "source": [
    "public_url = ngrok.connect(5000)\n",
    "print(\"Public URL:\", public_url)"
   ]
  },
  {
   "cell_type": "code",
   "execution_count": null,
   "metadata": {
    "colab": {
     "base_uri": "https://localhost:8080/"
    },
    "id": "zkdF9PGyPBxB",
    "outputId": "1115bb3d-e8f7-408e-cec4-550d69e0a185"
   },
   "outputs": [],
   "source": [
    "!pip install mlflow"
   ]
  },
  {
   "cell_type": "code",
   "execution_count": null,
   "metadata": {
    "id": "sPswTaVtPOMQ"
   },
   "outputs": [],
   "source": [
    "import os\n",
    "\n",
    "backend_store = \"/content/mlflow_backend\"\n",
    "artifact_store = \"/content/mlflow_artifacts\"\n",
    "\n",
    "os.makedirs(backend_store, exist_ok=True)\n",
    "os.makedirs(artifact_store, exist_ok=True)"
   ]
  },
  {
   "cell_type": "code",
   "execution_count": null,
   "metadata": {
    "colab": {
     "base_uri": "https://localhost:8080/"
    },
    "id": "nbuXvHVNPRpf",
    "outputId": "8e379e3f-399c-4f8c-a9f4-0c7a64248a08"
   },
   "outputs": [],
   "source": [
    "!mlflow server \\\n",
    "    --backend-store-uri sqlite:///{backend_store}/mlflow.db \\\n",
    "    --default-artifact-root {artifact_store} \\\n",
    "    --host 0.0.0.0 \\\n",
    "    --port 5000"
   ]
  },
  {
   "cell_type": "code",
   "execution_count": null,
   "metadata": {
    "id": "ePvcp9ShOsJ5"
   },
   "outputs": [],
   "source": [
    "# Disconnecting public url\n",
    "#ngrok.disconnect(public_url)"
   ]
  }
 ],
 "metadata": {
  "colab": {
   "provenance": []
  },
  "kernelspec": {
   "display_name": "Python 3 (ipykernel)",
   "language": "python",
   "name": "python3"
  },
  "language_info": {
   "codemirror_mode": {
    "name": "ipython",
    "version": 3
   },
   "file_extension": ".py",
   "mimetype": "text/x-python",
   "name": "python",
   "nbconvert_exporter": "python",
   "pygments_lexer": "ipython3",
   "version": "3.11.10"
  }
 },
 "nbformat": 4,
 "nbformat_minor": 4
}
