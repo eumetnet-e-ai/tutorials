{
 "cells": [
  {
   "cell_type": "code",
   "execution_count": 1,
   "id": "c8334f49-aaf1-4468-8d8e-16573c277115",
   "metadata": {},
   "outputs": [],
   "source": [
    "import ollama"
   ]
  },
  {
   "cell_type": "code",
   "execution_count": 2,
   "id": "2d001f67-8599-434c-94ad-7bd364520c3f",
   "metadata": {},
   "outputs": [
    {
     "name": "stdout",
     "output_type": "stream",
     "text": [
      " Why was the equal sign so humble?\n",
      "\n",
      "Because it knew it wasn't less than or greater than anyone else! (I know, math jokes can be cheesy, but I hope this one made you smile!)\n"
     ]
    }
   ],
   "source": [
    "response = ollama.chat(model='mistral',messages=[{'role': 'user', 'content': \n",
    "                    'tell me a joke involving mathematics'}])\n",
    "print(response['message']['content'])"
   ]
  },
  {
   "cell_type": "code",
   "execution_count": 3,
   "id": "410cbb56-2a57-457e-a583-bf7a5f642e85",
   "metadata": {},
   "outputs": [
    {
     "name": "stdout",
     "output_type": "stream",
     "text": [
      "\n",
      "Why did the meteorologist break up with his girlfriend?\n",
      "\n",
      "She was always clouding his judgment!\n"
     ]
    }
   ],
   "source": [
    "response = ollama.chat(model='llama2', \n",
    "            messages=[{'role': 'user', 'content': 'tell me a joke involving meteorology'}])\n",
    "print(response['message']['content'])"
   ]
  },
  {
   "cell_type": "code",
   "execution_count": 4,
   "id": "9f1958dd-eacb-40b3-8d9d-aea8d8a9396b",
   "metadata": {},
   "outputs": [
    {
     "name": "stdout",
     "output_type": "stream",
     "text": [
      "\n",
      "Sure, here's another one:\n",
      "\n",
      "Why did the mathematician break up with his girlfriend?\n",
      "\n",
      "Because she couldn't solve their problems!\n"
     ]
    }
   ],
   "source": [
    "text2=\"Tell me another joke on mathematicians\"\n",
    "response = ollama.chat(model='llama2',messages=[{'role': 'user', 'content': text2}])\n",
    "print(response['message']['content'])"
   ]
  },
  {
   "cell_type": "code",
   "execution_count": 5,
   "id": "268c9347-6c60-4bb1-92cb-16d7e4e30f0e",
   "metadata": {},
   "outputs": [
    {
     "data": {
      "text/html": [
       "<b>Response from ollama:</b>"
      ],
      "text/plain": [
       "<IPython.core.display.HTML object>"
      ]
     },
     "metadata": {},
     "output_type": "display_data"
    },
    {
     "name": "stdout",
     "output_type": "stream",
     "text": [
      "{'model': 'llama2', 'created_at': '2024-09-21T11:16:32.247858642Z', 'message': {'role': 'assistant', 'content': \"\\nI'm just an AI, I don't have real-time access to current weather conditions. However, I can suggest some ways for you to find out the current weather in Paris:\\n\\n1. Check online weather websites: Websites such as AccuWeather, Weather.com, or the French meteorological service (Météo-France) provide up-to-date weather forecasts and conditions for cities around the world, including Paris.\\n2. Use a weather app: There are many weather apps available for smartphones and other devices that can provide you with real-time weather information in Paris. Some popular weather apps include Dark Sky, Weather Underground, and The Weather Channel.\\n3. Contact the local tourist office: The Paris Tourist Office (Office du Tourisme de Paris) or your hotel's front desk can provide you with information on the current weather conditions in Paris.\\n4. Watch local news: If you have access to a TV or computer, you can watch local news channels or check their website for weather updates in Paris.\\n\\nRemember, the weather in Paris can be unpredictable, so it's always a good idea to pack layers and be prepared for any conditions.\"}, 'done': True, 'total_duration': 52238710873, 'load_duration': 1566638, 'prompt_eval_count': 15, 'prompt_eval_duration': 2101520000, 'eval_count': 261, 'eval_duration': 50004740000}\n"
     ]
    },
    {
     "data": {
      "text/html": [
       "<b>Ollama:</b>"
      ],
      "text/plain": [
       "<IPython.core.display.HTML object>"
      ]
     },
     "metadata": {},
     "output_type": "display_data"
    },
    {
     "name": "stdout",
     "output_type": "stream",
     "text": [
      "\n",
      "I'm just an AI, I don't have real-time access to current weather conditions. However, I can suggest some ways for you to find out the current weather in Paris:\n",
      "\n",
      "1. Check online weather websites: Websites such as AccuWeather, Weather.com, or the French meteorological service (Météo-France) provide up-to-date weather forecasts and conditions for cities around the world, including Paris.\n",
      "2. Use a weather app: There are many weather apps available for smartphones and other devices that can provide you with real-time weather information in Paris. Some popular weather apps include Dark Sky, Weather Underground, and The Weather Channel.\n",
      "3. Contact the local tourist office: The Paris Tourist Office (Office du Tourisme de Paris) or your hotel's front desk can provide you with information on the current weather conditions in Paris.\n",
      "4. Watch local news: If you have access to a TV or computer, you can watch local news channels or check their website for weather updates in Paris.\n",
      "\n",
      "Remember, the weather in Paris can be unpredictable, so it's always a good idea to pack layers and be prepared for any conditions.\n"
     ]
    },
    {
     "data": {
      "text/html": [
       "<b>Response from ollama:</b>"
      ],
      "text/plain": [
       "<IPython.core.display.HTML object>"
      ]
     },
     "metadata": {},
     "output_type": "display_data"
    },
    {
     "name": "stdout",
     "output_type": "stream",
     "text": [
      "{'model': 'llama2', 'created_at': '2024-09-21T11:17:29.451397296Z', 'message': {'role': 'assistant', 'content': \"\\nIt's always a good idea to check the weather forecast before heading out, especially in Paris where the weather can be unpredictable. While it's impossible for me to provide you with the exact weather conditions at the moment, I can suggest some general tips on when to bring an umbrella in Paris:\\n\\n1. Spring and Autumn: These are the most likely seasons to experience rain in Paris, so it's a good idea to pack an umbrella during these months (March to May and September to November).\\n2. Summer: While it's less likely to rain in the summer months (June to August), it can still happen, especially in the late afternoon or evening. Bringing an umbrella during this time is a good precautionary measure.\\n3. Winter: Paris can experience occasional snow and rain during the winter months (December to February). While the chances of rain are lower than in other seasons, it's still possible, so it's best to bring an umbrella just in case.\\n\\nRemember, the weather in Paris can be unpredictable, so it's always better to be prepared with a lightweight and compact umbrella that you can easily carry with you.\"}, 'done': True, 'total_duration': 57166794119, 'load_duration': 2490003, 'prompt_eval_count': 27, 'prompt_eval_duration': 3836843000, 'eval_count': 267, 'eval_duration': 53195411000}\n"
     ]
    },
    {
     "data": {
      "text/html": [
       "<b>Ollama:</b>"
      ],
      "text/plain": [
       "<IPython.core.display.HTML object>"
      ]
     },
     "metadata": {},
     "output_type": "display_data"
    },
    {
     "name": "stdout",
     "output_type": "stream",
     "text": [
      "\n",
      "It's always a good idea to check the weather forecast before heading out, especially in Paris where the weather can be unpredictable. While it's impossible for me to provide you with the exact weather conditions at the moment, I can suggest some general tips on when to bring an umbrella in Paris:\n",
      "\n",
      "1. Spring and Autumn: These are the most likely seasons to experience rain in Paris, so it's a good idea to pack an umbrella during these months (March to May and September to November).\n",
      "2. Summer: While it's less likely to rain in the summer months (June to August), it can still happen, especially in the late afternoon or evening. Bringing an umbrella during this time is a good precautionary measure.\n",
      "3. Winter: Paris can experience occasional snow and rain during the winter months (December to February). While the chances of rain are lower than in other seasons, it's still possible, so it's best to bring an umbrella just in case.\n",
      "\n",
      "Remember, the weather in Paris can be unpredictable, so it's always better to be prepared with a lightweight and compact umbrella that you can easily carry with you.\n"
     ]
    }
   ],
   "source": [
    "import ollama\n",
    "from IPython.display import display, HTML\n",
    "\n",
    "# Initialize an empty list to keep track of the conversation\n",
    "conversation_history = []\n",
    "\n",
    "# Function to ask a question and get a response, maintaining context\n",
    "def ask_ollama(question, conversation_history):\n",
    "    # Append the new question to the conversation history\n",
    "    conversation_history.append({\"role\": \"user\", \"content\": question})\n",
    "\n",
    "    # Send the entire conversation history to ollama\n",
    "    response = ollama.chat(model='llama2', messages=conversation_history)  # Pass the history directly\n",
    "\n",
    "    # Print the response to understand its structure\n",
    "    display(HTML(\"<b>Response from ollama:</b>\"))\n",
    "    print(response)\n",
    "\n",
    "    # Extract content from the response\n",
    "    content = response['message']['content']\n",
    "\n",
    "    # Append ollama's response to the conversation history\n",
    "    conversation_history.append({\"role\": \"assistant\", \"content\": content})\n",
    "\n",
    "    return content\n",
    "\n",
    "# Example usage\n",
    "question1 = \"What's the weather like today in Paris?\"\n",
    "response1 = ask_ollama(question1, conversation_history)\n",
    "display(HTML(\"<b>Ollama:</b>\"))\n",
    "print(response1)\n",
    "\n",
    "question2 = \"Should I bring an umbrella?\"\n",
    "response2 = ask_ollama(question2, conversation_history)\n",
    "display(HTML(\"<b>Ollama:</b>\"))\n",
    "print(response2)\n"
   ]
  },
  {
   "cell_type": "code",
   "execution_count": 6,
   "id": "078908d8-64ea-46e1-9d8e-95d6d7e37211",
   "metadata": {},
   "outputs": [
    {
     "name": "stdout",
     "output_type": "stream",
     "text": [
      "[{'role': 'user', 'content': \"What's the weather like today in Paris?\"}, {'role': 'assistant', 'content': \"\\nI'm just an AI, I don't have real-time access to current weather conditions. However, I can suggest some ways for you to find out the current weather in Paris:\\n\\n1. Check online weather websites: Websites such as AccuWeather, Weather.com, or the French meteorological service (Météo-France) provide up-to-date weather forecasts and conditions for cities around the world, including Paris.\\n2. Use a weather app: There are many weather apps available for smartphones and other devices that can provide you with real-time weather information in Paris. Some popular weather apps include Dark Sky, Weather Underground, and The Weather Channel.\\n3. Contact the local tourist office: The Paris Tourist Office (Office du Tourisme de Paris) or your hotel's front desk can provide you with information on the current weather conditions in Paris.\\n4. Watch local news: If you have access to a TV or computer, you can watch local news channels or check their website for weather updates in Paris.\\n\\nRemember, the weather in Paris can be unpredictable, so it's always a good idea to pack layers and be prepared for any conditions.\"}, {'role': 'user', 'content': 'Should I bring an umbrella?'}, {'role': 'assistant', 'content': \"\\nIt's always a good idea to check the weather forecast before heading out, especially in Paris where the weather can be unpredictable. While it's impossible for me to provide you with the exact weather conditions at the moment, I can suggest some general tips on when to bring an umbrella in Paris:\\n\\n1. Spring and Autumn: These are the most likely seasons to experience rain in Paris, so it's a good idea to pack an umbrella during these months (March to May and September to November).\\n2. Summer: While it's less likely to rain in the summer months (June to August), it can still happen, especially in the late afternoon or evening. Bringing an umbrella during this time is a good precautionary measure.\\n3. Winter: Paris can experience occasional snow and rain during the winter months (December to February). While the chances of rain are lower than in other seasons, it's still possible, so it's best to bring an umbrella just in case.\\n\\nRemember, the weather in Paris can be unpredictable, so it's always better to be prepared with a lightweight and compact umbrella that you can easily carry with you.\"}]\n"
     ]
    }
   ],
   "source": [
    "print(conversation_history)"
   ]
  },
  {
   "cell_type": "code",
   "execution_count": 7,
   "id": "bbb3eb4e-1eb2-47e8-83a2-988a83c8a1b0",
   "metadata": {},
   "outputs": [
    {
     "data": {
      "text/html": [
       "<b>Response from ollama:</b>"
      ],
      "text/plain": [
       "<IPython.core.display.HTML object>"
      ]
     },
     "metadata": {},
     "output_type": "display_data"
    },
    {
     "name": "stdout",
     "output_type": "stream",
     "text": [
      "{'model': 'llama2', 'created_at': '2024-09-21T11:15:39.997800641Z', 'message': {'role': 'assistant', 'content': \"\\nSure, here's another one:\\n\\nWhy did the mathematician break up with his girlfriend?\\n\\nBecause she couldn't solve their problems!\"}, 'done': True, 'total_duration': 9132486946, 'load_duration': 2658324, 'prompt_eval_count': 14, 'prompt_eval_duration': 2013336000, 'eval_count': 38, 'eval_duration': 6986761000}\n"
     ]
    }
   ],
   "source": [
    "from IPython.display import display, HTML\n",
    "display(HTML(\"<b>Response from ollama:</b>\"))\n",
    "print(response)\n"
   ]
  }
 ],
 "metadata": {
  "kernelspec": {
   "display_name": "Python 3 (ipykernel)",
   "language": "python",
   "name": "python3"
  },
  "language_info": {
   "codemirror_mode": {
    "name": "ipython",
    "version": 3
   },
   "file_extension": ".py",
   "mimetype": "text/x-python",
   "name": "python",
   "nbconvert_exporter": "python",
   "pygments_lexer": "ipython3",
   "version": "3.10.12"
  }
 },
 "nbformat": 4,
 "nbformat_minor": 5
}
