{
 "cells": [
  {
   "cell_type": "markdown",
   "metadata": {
    "id": "rELGSFIO9r-8"
   },
   "source": []
  },
  {
   "cell_type": "code",
   "execution_count": 1,
   "metadata": {
    "executionInfo": {
     "elapsed": 2,
     "status": "ok",
     "timestamp": 1724522549414,
     "user": {
      "displayName": "Roland Potthast",
      "userId": "09141136587533247770"
     },
     "user_tz": -120
    },
    "id": "L3rPyneK69Zy"
   },
   "outputs": [],
   "source": [
    "import torch\n",
    "import torch.nn as nn\n",
    "import torch.optim as optim\n",
    "from torch.utils.data import Dataset, DataLoader"
   ]
  },
  {
   "cell_type": "code",
   "execution_count": 2,
   "metadata": {
    "colab": {
     "base_uri": "https://localhost:8080/"
    },
    "executionInfo": {
     "elapsed": 237,
     "status": "ok",
     "timestamp": 1724523434987,
     "user": {
      "displayName": "Roland Potthast",
      "userId": "09141136587533247770"
     },
     "user_tz": -120
    },
    "id": "3S3MIiE967Vz",
    "outputId": "b9fb14d4-1064-4d07-e60e-1add74b1a4fa"
   },
   "outputs": [
    {
     "name": "stdout",
     "output_type": "stream",
     "text": [
      "vocab_size =  56\n"
     ]
    }
   ],
   "source": [
    "# Define the Vocabulary\n",
    "vocab = {\n",
    "    0: \"\",\n",
    "    1: \"I\", 2: \"am\", 3: \"you\", 4: \"is\", 5: \"we\", 6: \"are\", 7: \"a\", 8: \"an\", 9: \"the\",\n",
    "    10: \"simple\", 11: \"example\", 12: \"with\", 13: \"and\", 14: \"but\", 15: \"or\",\n",
    "    16: \"not\", 17: \"only\", 18: \"also\", 19: \"how\", 20: \"what\", 21: \"why\", 22: \"can\",\n",
    "    23: \"must\", 24: \"should\", 25: \"want\", 26: \"has\", 27: \"have\", 28: \"had\",\n",
    "    29: \"to\", 30: \"home\", 31: \"play\", 32: \"in\", 33: \"garden\", 34: \"weather\",\n",
    "    35: \"nice\", 36: \"drives\", 37: \"Berlin\", 38: \"reads\", 39: \"book\", 40: \"she\",\n",
    "    41: \"he\", 42: \"go\", 43: \"hungry\", 44: \"tired\", 45: \"happy\", 46: \"sad\",\n",
    "    47: \"it\", 48: \"good\", 49: \"this\", 50: \"bad\", 51: \"eat\", 52: \"drink\", 53: \"come\",\n",
    "    54: \"they\", 55: \"was\"\n",
    "}\n",
    "vocab_size = len(vocab)  # or set it explicitly to the highest index in your vocab dictionary\n",
    "print(\"vocab_size = \", vocab_size)\n",
    "\n",
    "# Example Dataset\n",
    "sentences = [\n",
    "    \"I am hungry\",\n",
    "    \"you are tired\",\n",
    "    \"we are happy\",\n",
    "    \"they are sad\",\n",
    "    \"it is simple\",\n",
    "    \"the weather is nice\",\n",
    "    \"this is bad\",\n",
    "    \"this was good\",\n",
    "    \"we want to eat\",\n",
    "    \"they want to drink\",\n",
    "    \"you can come\",\n",
    "    \"we go home\",\n",
    "    \"they play in the garden\",\n",
    "    \"the weather is nice\",\n",
    "    \"he drives to Berlin\",\n",
    "    \"she reads a book\"\n",
    "]"
   ]
  },
  {
   "cell_type": "code",
   "execution_count": 3,
   "metadata": {
    "executionInfo": {
     "elapsed": 1,
     "status": "ok",
     "timestamp": 1724523435712,
     "user": {
      "displayName": "Roland Potthast",
      "userId": "09141136587533247770"
     },
     "user_tz": -120
    },
    "id": "kyNbO4gzcz2N"
   },
   "outputs": [],
   "source": [
    "import torch\n",
    "import torch.nn as nn\n",
    "import torch.nn.functional as F\n",
    "import math\n",
    "\n",
    "# Define the Positional Encoding\n",
    "class PositionalEncoding(nn.Module):\n",
    "    def __init__(self, d_model, max_len=5000):\n",
    "        super(PositionalEncoding, self).__init__()\n",
    "        pe = torch.zeros(max_len, d_model)\n",
    "        position = torch.arange(0, max_len, dtype=torch.float).unsqueeze(1)\n",
    "        div_term = torch.exp(torch.arange(0, d_model, 2).float() * (-math.log(10000.0) / d_model))\n",
    "        pe[:, 0::2] = torch.sin(position * div_term)\n",
    "        pe[:, 1::2] = torch.cos(position * div_term)\n",
    "        pe = pe.unsqueeze(0).transpose(0, 1)\n",
    "        self.register_buffer('pe', pe)\n",
    "\n",
    "    def forward(self, x):\n",
    "        return x + self.pe[:x.size(0), :]\n",
    "\n",
    "# Define the Self-Attention layer\n",
    "class SelfAttention(nn.Module):\n",
    "    def __init__(self, d_model, num_heads):\n",
    "        super(SelfAttention, self).__init__()\n",
    "        assert d_model % num_heads == 0, \"d_model must be divisible by num_heads\"\n",
    "\n",
    "        self.d_k = d_model // num_heads\n",
    "        self.num_heads = num_heads\n",
    "\n",
    "        self.q_linear = nn.Linear(d_model, d_model)\n",
    "        self.k_linear = nn.Linear(d_model, d_model)\n",
    "        self.v_linear = nn.Linear(d_model, d_model)\n",
    "        self.out_linear = nn.Linear(d_model, d_model)\n",
    "\n",
    "    def forward(self, x):\n",
    "        batch_size = x.size(0)\n",
    "\n",
    "        # Linear transformation and splitting into heads\n",
    "        q = self.q_linear(x).view(batch_size, -1, self.num_heads, self.d_k).transpose(1, 2)\n",
    "        k = self.k_linear(x).view(batch_size, -1, self.num_heads, self.d_k).transpose(1, 2)\n",
    "        v = self.v_linear(x).view(batch_size, -1, self.num_heads, self.d_k).transpose(1, 2)\n",
    "\n",
    "        # Compute attention\n",
    "        scores = torch.matmul(q, k.transpose(-2, -1)) / math.sqrt(self.d_k)\n",
    "        attention = F.softmax(scores, dim=-1)\n",
    "\n",
    "        # Apply attention to the values\n",
    "        x = torch.matmul(attention, v).transpose(1, 2).contiguous().view(batch_size, -1, self.num_heads * self.d_k)\n",
    "\n",
    "        # Linear transformation of the output\n",
    "        return self.out_linear(x)\n",
    "\n",
    "# Define the Feedforward network\n",
    "class FeedForward(nn.Module):\n",
    "    def __init__(self, d_model, d_ff=2048):\n",
    "        super(FeedForward, self).__init__()\n",
    "        self.linear1 = nn.Linear(d_model, d_ff)\n",
    "        self.linear2 = nn.Linear(d_ff, d_model)\n",
    "\n",
    "    def forward(self, x):\n",
    "        return self.linear2(F.relu(self.linear1(x)))\n",
    "\n",
    "# Define the Transformer Block\n",
    "class TransformerBlock(nn.Module):\n",
    "    def __init__(self, d_model, num_heads, d_ff):\n",
    "        super(TransformerBlock, self).__init__()\n",
    "        self.attention = SelfAttention(d_model, num_heads)\n",
    "        self.norm1 = nn.LayerNorm(d_model)\n",
    "        self.norm2 = nn.LayerNorm(d_model)\n",
    "        self.ff = FeedForward(d_model, d_ff)\n",
    "\n",
    "    def forward(self, x):\n",
    "        # Self-Attention + Residual Connection + Normalization\n",
    "        attention_out = self.attention(x)\n",
    "        x = self.norm1(x + attention_out)\n",
    "\n",
    "        # Feedforward + Residual Connection + Normalization\n",
    "        ff_out = self.ff(x)\n",
    "        x = self.norm2(x + ff_out)\n",
    "\n",
    "        return x\n",
    "\n",
    "# Define the Transformer\n",
    "class SimpleTransformer(nn.Module):\n",
    "    def __init__(self, d_model, num_heads, num_layers, vocab_size, max_len, d_ff=2048):\n",
    "        super(SimpleTransformer, self).__init__()\n",
    "        self.embedding = nn.Embedding(vocab_size, d_model)\n",
    "        self.positional_encoding = PositionalEncoding(d_model, max_len)\n",
    "        self.layers = nn.ModuleList([TransformerBlock(d_model, num_heads, d_ff) for _ in range(num_layers)])\n",
    "        self.fc_out = nn.Linear(d_model, vocab_size)\n",
    "\n",
    "    def forward(self, x):\n",
    "        # Embedding + Positional Encoding\n",
    "        x = self.embedding(x)\n",
    "        x = self.positional_encoding(x)\n",
    "\n",
    "        # Pass through the Transformer layers\n",
    "        for layer in self.layers:\n",
    "            x = layer(x)\n",
    "\n",
    "        # Output layer\n",
    "        return self.fc_out(x)\n"
   ]
  },
  {
   "cell_type": "code",
   "execution_count": 4,
   "metadata": {
    "executionInfo": {
     "elapsed": 1,
     "status": "ok",
     "timestamp": 1724523436074,
     "user": {
      "displayName": "Roland Potthast",
      "userId": "09141136587533247770"
     },
     "user_tz": -120
    },
    "id": "EkZ3iw0mULFn"
   },
   "outputs": [],
   "source": [
    "import torch\n",
    "import torch.nn as nn\n",
    "import torch.optim as optim\n",
    "from torch.utils.data import Dataset, DataLoader\n",
    "\n",
    "# Function for tokenization\n",
    "def tokenize_sentence(sentence, vocab):\n",
    "    return [key for word in sentence.split() for key, value in vocab.items() if value == word]\n",
    "\n",
    "# Adjusted padding function\n",
    "def pad_sequence(seq, max_len, pad_value=0):\n",
    "    if len(seq) < max_len:\n",
    "        return seq + [pad_value] * (max_len - len(seq))\n",
    "    else:\n",
    "        return seq[:max_len]\n",
    "\n",
    "class SimpleDataset(Dataset):\n",
    "    def __init__(self, sentences, vocab, max_len):\n",
    "        self.sentences = sentences\n",
    "        self.vocab = vocab\n",
    "        self.max_len = max_len\n",
    "        self.data = [tokenize_sentence(sentence, vocab) for sentence in sentences]\n",
    "\n",
    "    def __len__(self):\n",
    "        return len(self.data)\n",
    "\n",
    "    def __getitem__(self, idx):\n",
    "        # Get the tokenized and padded sentence\n",
    "        sequence = self.data[idx]\n",
    "\n",
    "        # Prepare x (all tokens except the last one)\n",
    "        x = sequence[:-1]\n",
    "\n",
    "        # Prepare y (all tokens except the first one)\n",
    "        y = sequence\n",
    "\n",
    "        # Ensure both x and y are padded to the same length\n",
    "        x_padded = pad_sequence(x, self.max_len)\n",
    "        y_padded = pad_sequence(y, self.max_len)\n",
    "\n",
    "        return torch.tensor(x_padded), torch.tensor(y_padded)\n",
    "\n",
    "# Dataset and DataLoader Setup\n",
    "max_len = 6  # Maximum sequence length\n",
    "dataset = SimpleDataset(sentences, vocab, max_len)\n",
    "dataloader = DataLoader(dataset, batch_size=6, shuffle=True)\n",
    "\n",
    "# Model, loss function, and optimizer\n",
    "vocab_size = len(vocab)  # Adjust to the size of the vocabulary\n",
    "d_model = 32      # Smaller model dimension\n",
    "num_heads = 2     # Fewer heads in multi-head attention\n",
    "num_layers = 2    # Number of Transformer layers\n",
    "model = SimpleTransformer(d_model, num_heads, num_layers, vocab_size, max_len)\n",
    "\n",
    "# Initialize weights\n",
    "def initialize_weights(m):\n",
    "    if isinstance(m, nn.Linear):\n",
    "        nn.init.xavier_uniform_(m.weight)\n",
    "        if m.bias is not None:\n",
    "            nn.init.zeros_(m.bias)\n",
    "\n",
    "model.apply(initialize_weights)\n",
    "\n",
    "criterion = nn.CrossEntropyLoss(ignore_index=0)  # Ignore padding index\n",
    "optimizer = optim.Adam(model.parameters(), lr=0.001)  # Reduced learning rate\n"
   ]
  },
  {
   "cell_type": "code",
   "execution_count": 5,
   "metadata": {
    "colab": {
     "base_uri": "https://localhost:8080/"
    },
    "executionInfo": {
     "elapsed": 4261,
     "status": "ok",
     "timestamp": 1724523441177,
     "user": {
      "displayName": "Roland Potthast",
      "userId": "09141136587533247770"
     },
     "user_tz": -120
    },
    "id": "LZTj5uo34NB_",
    "outputId": "a4d5cee5-1273-4c03-e687-17243e884e5e"
   },
   "outputs": [
    {
     "name": "stdout",
     "output_type": "stream",
     "text": [
      "Epoch 1/101, Loss: 4.26396385828654\n",
      "Epoch 101/101, Loss: 0.025235851605733235\n"
     ]
    }
   ],
   "source": [
    "# Training loop\n",
    "num_epochs = 101  # Fewer epochs\n",
    "# Initialize a list to store the loss values\n",
    "loss_history = []\n",
    "\n",
    "n = 0  # Initialize counter\n",
    "for epoch in range(num_epochs):\n",
    "    model.train()\n",
    "    epoch_loss = 0\n",
    "\n",
    "    for x, y in dataloader:\n",
    "        optimizer.zero_grad()\n",
    "        output = model(x)\n",
    "        loss = criterion(output.view(-1, vocab_size), y.view(-1))\n",
    "\n",
    "        if torch.isnan(loss):\n",
    "            # NaN detected, stopping training.\n",
    "            break\n",
    "\n",
    "        loss.backward()\n",
    "        torch.nn.utils.clip_grad_norm_(model.parameters(), max_norm=1.0)\n",
    "        optimizer.step()\n",
    "        loss_history.append(loss.item())\n",
    "\n",
    "        epoch_loss += loss.item()\n",
    "\n",
    "    if n % 100 == 0:\n",
    "        print(f\"Epoch {epoch+1}/{num_epochs}, Loss: {epoch_loss/len(dataloader)}\")\n",
    "    n += 1\n"
   ]
  },
  {
   "cell_type": "code",
   "execution_count": 6,
   "metadata": {
    "colab": {
     "base_uri": "https://localhost:8080/",
     "height": 490
    },
    "executionInfo": {
     "elapsed": 671,
     "status": "ok",
     "timestamp": 1724523443800,
     "user": {
      "displayName": "Roland Potthast",
      "userId": "09141136587533247770"
     },
     "user_tz": -120
    },
    "id": "BWmX5Q7-XMWn",
    "outputId": "eca74eda-b7ed-4471-c535-c084e4a9cf9a"
   },
   "outputs": [
    {
     "name": "stdout",
     "output_type": "stream",
     "text": [
      "number of steps with loss recorded: 303\n"
     ]
    },
    {
     "data": {
      "image/png": "[encoded data removed]",
      "text/plain": [
       "<Figure size 640x480 with 1 Axes>"
      ]
     },
     "metadata": {},
     "output_type": "display_data"
    }
   ],
   "source": [
    "import matplotlib.pyplot as plt\n",
    "import numpy as np\n",
    "\n",
    "# Print the shape of the loss history array\n",
    "print(\"number of steps with loss recorded:\", np.shape(loss_history)[0])\n",
    "\n",
    "# Plot the loss history to visualize how the loss changes over time\n",
    "plt.plot(loss_history)\n",
    "plt.xlabel('Iterations')  # X-axis label indicating the number of iterations (batches)\n",
    "plt.ylabel('Loss')        # Y-axis label indicating the loss value\n",
    "plt.title('Loss Over Time')  # Title of the plot\n",
    "plt.show()  # Display the plot\n"
   ]
  },
  {
   "cell_type": "code",
   "execution_count": 7,
   "metadata": {
    "colab": {
     "base_uri": "https://localhost:8080/",
     "height": 1000
    },
    "executionInfo": {
     "elapsed": 580,
     "status": "ok",
     "timestamp": 1724524491669,
     "user": {
      "displayName": "Roland Potthast",
      "userId": "09141136587533247770"
     },
     "user_tz": -120
    },
    "id": "3ggr248-unsS",
    "outputId": "0aeaf569-b9d9-44cc-f636-880dbd2a85f4"
   },
   "outputs": [
    {
     "name": "stdout",
     "output_type": "stream",
     "text": [
      "3\n",
      "test_sentence: \t \t \t \t \t I am hungry\n",
      "test input   : tensor([[1, 2, 0, 0, 0, 0]]) :  I am    \n",
      "test_output  : tensor([[ 1,  2, 43, 43, 43, 43]]) : I am hungry\n"
     ]
    },
    {
     "data": {
      "text/html": [
       "<span style='color:green'>Result: True</span>"
      ],
      "text/plain": [
       "<IPython.core.display.HTML object>"
      ]
     },
     "metadata": {},
     "output_type": "display_data"
    },
    {
     "name": "stdout",
     "output_type": "stream",
     "text": [
      "3\n",
      "test_sentence: \t \t \t \t \t you are tired\n",
      "test input   : tensor([[3, 6, 0, 0, 0, 0]]) :  you are    \n",
      "test_output  : tensor([[ 3,  6, 44, 44, 44, 44]]) : you are tired\n"
     ]
    },
    {
     "data": {
      "text/html": [
       "<span style='color:green'>Result: True</span>"
      ],
      "text/plain": [
       "<IPython.core.display.HTML object>"
      ]
     },
     "metadata": {},
     "output_type": "display_data"
    },
    {
     "name": "stdout",
     "output_type": "stream",
     "text": [
      "3\n",
      "test_sentence: \t \t \t \t \t we are happy\n",
      "test input   : tensor([[5, 6, 0, 0, 0, 0]]) :  we are    \n",
      "test_output  : tensor([[ 5,  6, 45, 45, 45, 45]]) : we are happy\n"
     ]
    },
    {
     "data": {
      "text/html": [
       "<span style='color:green'>Result: True</span>"
      ],
      "text/plain": [
       "<IPython.core.display.HTML object>"
      ]
     },
     "metadata": {},
     "output_type": "display_data"
    },
    {
     "name": "stdout",
     "output_type": "stream",
     "text": [
      "3\n",
      "test_sentence: \t \t \t \t \t they are sad\n",
      "test input   : tensor([[54,  6,  0,  0,  0,  0]]) :  they are    \n",
      "test_output  : tensor([[54,  6, 46, 46, 46, 46]]) : they are sad\n"
     ]
    },
    {
     "data": {
      "text/html": [
       "<span style='color:green'>Result: True</span>"
      ],
      "text/plain": [
       "<IPython.core.display.HTML object>"
      ]
     },
     "metadata": {},
     "output_type": "display_data"
    },
    {
     "name": "stdout",
     "output_type": "stream",
     "text": [
      "3\n",
      "test_sentence: \t \t \t \t \t it is simple\n",
      "test input   : tensor([[47,  4,  0,  0,  0,  0]]) :  it is    \n",
      "test_output  : tensor([[47,  4, 10, 10, 10, 10]]) : it is simple\n"
     ]
    },
    {
     "data": {
      "text/html": [
       "<span style='color:green'>Result: True</span>"
      ],
      "text/plain": [
       "<IPython.core.display.HTML object>"
      ]
     },
     "metadata": {},
     "output_type": "display_data"
    },
    {
     "name": "stdout",
     "output_type": "stream",
     "text": [
      "4\n",
      "test_sentence: \t \t \t \t \t the weather is nice\n",
      "test input   : tensor([[ 9, 34,  4,  0,  0,  0]]) :  the weather is   \n",
      "test_output  : tensor([[ 9, 34,  4, 35, 35, 35]]) : the weather is nice\n"
     ]
    },
    {
     "data": {
      "text/html": [
       "<span style='color:green'>Result: True</span>"
      ],
      "text/plain": [
       "<IPython.core.display.HTML object>"
      ]
     },
     "metadata": {},
     "output_type": "display_data"
    },
    {
     "name": "stdout",
     "output_type": "stream",
     "text": [
      "3\n",
      "test_sentence: \t \t \t \t \t this is bad\n",
      "test input   : tensor([[49,  4,  0,  0,  0,  0]]) :  this is    \n",
      "test_output  : tensor([[49,  4, 50, 50, 50, 50]]) : this is bad\n"
     ]
    },
    {
     "data": {
      "text/html": [
       "<span style='color:green'>Result: True</span>"
      ],
      "text/plain": [
       "<IPython.core.display.HTML object>"
      ]
     },
     "metadata": {},
     "output_type": "display_data"
    },
    {
     "name": "stdout",
     "output_type": "stream",
     "text": [
      "3\n",
      "test_sentence: \t \t \t \t \t this was good\n",
      "test input   : tensor([[49, 55,  0,  0,  0,  0]]) :  this was    \n",
      "test_output  : tensor([[49, 55, 48, 48, 48, 48]]) : this was good\n"
     ]
    },
    {
     "data": {
      "text/html": [
       "<span style='color:green'>Result: True</span>"
      ],
      "text/plain": [
       "<IPython.core.display.HTML object>"
      ]
     },
     "metadata": {},
     "output_type": "display_data"
    },
    {
     "name": "stdout",
     "output_type": "stream",
     "text": [
      "4\n",
      "test_sentence: \t \t \t \t \t we want to eat\n",
      "test input   : tensor([[ 5, 25, 29,  0,  0,  0]]) :  we want to   \n",
      "test_output  : tensor([[ 5, 25, 29, 51, 51, 51]]) : we want to eat\n"
     ]
    },
    {
     "data": {
      "text/html": [
       "<span style='color:green'>Result: True</span>"
      ],
      "text/plain": [
       "<IPython.core.display.HTML object>"
      ]
     },
     "metadata": {},
     "output_type": "display_data"
    },
    {
     "name": "stdout",
     "output_type": "stream",
     "text": [
      "4\n",
      "test_sentence: \t \t \t \t \t they want to drink\n",
      "test input   : tensor([[54, 25, 29,  0,  0,  0]]) :  they want to   \n",
      "test_output  : tensor([[54, 25, 29, 52, 52, 52]]) : they want to drink\n"
     ]
    },
    {
     "data": {
      "text/html": [
       "<span style='color:green'>Result: True</span>"
      ],
      "text/plain": [
       "<IPython.core.display.HTML object>"
      ]
     },
     "metadata": {},
     "output_type": "display_data"
    },
    {
     "name": "stdout",
     "output_type": "stream",
     "text": [
      "3\n",
      "test_sentence: \t \t \t \t \t you can come\n",
      "test input   : tensor([[ 3, 22,  0,  0,  0,  0]]) :  you can    \n",
      "test_output  : tensor([[ 3, 22, 53, 53, 53, 53]]) : you can come\n"
     ]
    },
    {
     "data": {
      "text/html": [
       "<span style='color:green'>Result: True</span>"
      ],
      "text/plain": [
       "<IPython.core.display.HTML object>"
      ]
     },
     "metadata": {},
     "output_type": "display_data"
    },
    {
     "name": "stdout",
     "output_type": "stream",
     "text": [
      "3\n",
      "test_sentence: \t \t \t \t \t we go home\n",
      "test input   : tensor([[ 5, 42,  0,  0,  0,  0]]) :  we go    \n",
      "test_output  : tensor([[ 5, 42, 30, 30, 30, 30]]) : we go home\n"
     ]
    },
    {
     "data": {
      "text/html": [
       "<span style='color:green'>Result: True</span>"
      ],
      "text/plain": [
       "<IPython.core.display.HTML object>"
      ]
     },
     "metadata": {},
     "output_type": "display_data"
    },
    {
     "name": "stdout",
     "output_type": "stream",
     "text": [
      "5\n",
      "test_sentence: \t \t \t \t \t they play in the garden\n",
      "test input   : tensor([[54, 31, 32,  9,  0,  0]]) :  they play in the  \n",
      "test_output  : tensor([[54, 31, 32,  9, 33, 33]]) : they play in the garden\n"
     ]
    },
    {
     "data": {
      "text/html": [
       "<span style='color:green'>Result: True</span>"
      ],
      "text/plain": [
       "<IPython.core.display.HTML object>"
      ]
     },
     "metadata": {},
     "output_type": "display_data"
    },
    {
     "name": "stdout",
     "output_type": "stream",
     "text": [
      "4\n",
      "test_sentence: \t \t \t \t \t the weather is nice\n",
      "test input   : tensor([[ 9, 34,  4,  0,  0,  0]]) :  the weather is   \n",
      "test_output  : tensor([[ 9, 34,  4, 35, 35, 35]]) : the weather is nice\n"
     ]
    },
    {
     "data": {
      "text/html": [
       "<span style='color:green'>Result: True</span>"
      ],
      "text/plain": [
       "<IPython.core.display.HTML object>"
      ]
     },
     "metadata": {},
     "output_type": "display_data"
    },
    {
     "name": "stdout",
     "output_type": "stream",
     "text": [
      "4\n",
      "test_sentence: \t \t \t \t \t he drives to Berlin\n",
      "test input   : tensor([[41, 36, 29,  0,  0,  0]]) :  he drives to   \n",
      "test_output  : tensor([[41, 36, 29, 37, 37, 37]]) : he drives to Berlin\n"
     ]
    },
    {
     "data": {
      "text/html": [
       "<span style='color:green'>Result: True</span>"
      ],
      "text/plain": [
       "<IPython.core.display.HTML object>"
      ]
     },
     "metadata": {},
     "output_type": "display_data"
    },
    {
     "name": "stdout",
     "output_type": "stream",
     "text": [
      "4\n",
      "test_sentence: \t \t \t \t \t she reads a book\n",
      "test input   : tensor([[40, 38,  7,  0,  0,  0]]) :  she reads a   \n",
      "test_output  : tensor([[40, 38,  7, 39, 39, 39]]) : she reads a book\n"
     ]
    },
    {
     "data": {
      "text/html": [
       "<span style='color:green'>Result: True</span>"
      ],
      "text/plain": [
       "<IPython.core.display.HTML object>"
      ]
     },
     "metadata": {},
     "output_type": "display_data"
    }
   ],
   "source": [
    "# ----------------------------------------------------------------------------\n",
    "# Testen des Modells\n",
    "# ----------------------------------------------------------------------------\n",
    "from IPython.display import HTML, display\n",
    "\n",
    "# Function to display colored text\n",
    "def color_text(text, color):\n",
    "    display(HTML(f\"<span style='color:{color}'>{text}</span>\"))\n",
    "\n",
    "model.eval()\n",
    "for words in sentences:\n",
    "  test_sentence = words\n",
    "  test_tokens  = tokenize_sentence(test_sentence, vocab)\n",
    "  mylen = len(test_tokens)\n",
    "  print(mylen)\n",
    "  test_input = torch.tensor(pad_sequence(test_tokens[:-1], max_len))\n",
    "  test_input = test_input.unsqueeze(0)  # Add batch dimension\n",
    "  output = model(test_input)\n",
    "  predicted_ids = torch.argmax(output[:mylen], dim=-1)\n",
    "  #print(\"predicted_ids: \", predicted_ids[:,:mylen])\n",
    "  predicted_ids2 = predicted_ids[:,:mylen]\n",
    "  decoded_input = [vocab[id.item()] for id in test_input.squeeze()]\n",
    "  decoded_output = [vocab[id.item()] for id in predicted_ids2.squeeze()]\n",
    "  print(\"test_sentence: \\t \\t \\t \\t \\t\", test_sentence)\n",
    "  print(\"test input   :\", test_input, \": \", \" \".join(decoded_input))\n",
    "  print(\"test_output  :\", predicted_ids, \":\", \" \".join(decoded_output))\n",
    "  success = (\" \".join(decoded_output) == test_sentence)\n",
    "  result = \"Result: \" + str(success)\n",
    "  color_text(result,\"green\")"
   ]
  },
  {
   "cell_type": "code",
   "execution_count": 8,
   "metadata": {
    "colab": {
     "base_uri": "https://localhost:8080/"
    },
    "executionInfo": {
     "elapsed": 249,
     "status": "ok",
     "timestamp": 1724523453596,
     "user": {
      "displayName": "Roland Potthast",
      "userId": "09141136587533247770"
     },
     "user_tz": -120
    },
    "id": "lSqebIN62wQS",
    "outputId": "08249938-2836-4714-a22e-2c89fc04898c"
   },
   "outputs": [
    {
     "name": "stdout",
     "output_type": "stream",
     "text": [
      "['I am hungry', 'you are tired', 'we are happy', 'they are sad', 'it is simple', 'the weather is nice', 'this is bad', 'this was good', 'we want to eat', 'they want to drink', 'you can come', 'we go home', 'they play in the garden', 'the weather is nice', 'he drives to Berlin', 'she reads a book']\n",
      "(tensor([1, 2, 0, 0, 0, 0]), tensor([ 1,  2, 43,  0,  0,  0]))\n",
      "(tensor([3, 6, 0, 0, 0, 0]), tensor([ 3,  6, 44,  0,  0,  0]))\n",
      "(tensor([5, 6, 0, 0, 0, 0]), tensor([ 5,  6, 45,  0,  0,  0]))\n",
      "(tensor([54,  6,  0,  0,  0,  0]), tensor([54,  6, 46,  0,  0,  0]))\n",
      "(tensor([47,  4,  0,  0,  0,  0]), tensor([47,  4, 10,  0,  0,  0]))\n",
      "(tensor([ 9, 34,  4,  0,  0,  0]), tensor([ 9, 34,  4, 35,  0,  0]))\n",
      "(tensor([49,  4,  0,  0,  0,  0]), tensor([49,  4, 50,  0,  0,  0]))\n",
      "(tensor([49, 55,  0,  0,  0,  0]), tensor([49, 55, 48,  0,  0,  0]))\n",
      "(tensor([ 5, 25, 29,  0,  0,  0]), tensor([ 5, 25, 29, 51,  0,  0]))\n",
      "(tensor([54, 25, 29,  0,  0,  0]), tensor([54, 25, 29, 52,  0,  0]))\n",
      "(tensor([ 3, 22,  0,  0,  0,  0]), tensor([ 3, 22, 53,  0,  0,  0]))\n",
      "(tensor([ 5, 42,  0,  0,  0,  0]), tensor([ 5, 42, 30,  0,  0,  0]))\n",
      "(tensor([54, 31, 32,  9,  0,  0]), tensor([54, 31, 32,  9, 33,  0]))\n",
      "(tensor([ 9, 34,  4,  0,  0,  0]), tensor([ 9, 34,  4, 35,  0,  0]))\n",
      "(tensor([41, 36, 29,  0,  0,  0]), tensor([41, 36, 29, 37,  0,  0]))\n",
      "(tensor([40, 38,  7,  0,  0,  0]), tensor([40, 38,  7, 39,  0,  0]))\n",
      "-------------------------------------------\n",
      "x= tensor([1, 2, 0, 0, 0, 0])\n",
      "y= tensor([ 1,  2, 43,  0,  0,  0])\n",
      "Data entry 0:\n",
      "x = I am    \n",
      "y = I am hungry   \n",
      "    I am hungry\n",
      "\n",
      "x= tensor([3, 6, 0, 0, 0, 0])\n",
      "y= tensor([ 3,  6, 44,  0,  0,  0])\n",
      "Data entry 1:\n",
      "x = you are    \n",
      "y = you are tired   \n",
      "    you are tired\n",
      "\n",
      "x= tensor([5, 6, 0, 0, 0, 0])\n",
      "y= tensor([ 5,  6, 45,  0,  0,  0])\n",
      "Data entry 2:\n",
      "x = we are    \n",
      "y = we are happy   \n",
      "    we are happy\n",
      "\n",
      "x= tensor([54,  6,  0,  0,  0,  0])\n",
      "y= tensor([54,  6, 46,  0,  0,  0])\n",
      "Data entry 3:\n",
      "x = they are    \n",
      "y = they are sad   \n",
      "    they are sad\n",
      "\n",
      "x= tensor([47,  4,  0,  0,  0,  0])\n",
      "y= tensor([47,  4, 10,  0,  0,  0])\n",
      "Data entry 4:\n",
      "x = it is    \n",
      "y = it is simple   \n",
      "    it is simple\n",
      "\n",
      "x= tensor([ 9, 34,  4,  0,  0,  0])\n",
      "y= tensor([ 9, 34,  4, 35,  0,  0])\n",
      "Data entry 5:\n",
      "x = the weather is   \n",
      "y = the weather is nice  \n",
      "    the weather is nice\n",
      "\n",
      "x= tensor([49,  4,  0,  0,  0,  0])\n",
      "y= tensor([49,  4, 50,  0,  0,  0])\n",
      "Data entry 6:\n",
      "x = this is    \n",
      "y = this is bad   \n",
      "    this is bad\n",
      "\n",
      "x= tensor([49, 55,  0,  0,  0,  0])\n",
      "y= tensor([49, 55, 48,  0,  0,  0])\n",
      "Data entry 7:\n",
      "x = this was    \n",
      "y = this was good   \n",
      "    this was good\n",
      "\n",
      "x= tensor([ 5, 25, 29,  0,  0,  0])\n",
      "y= tensor([ 5, 25, 29, 51,  0,  0])\n",
      "Data entry 8:\n",
      "x = we want to   \n",
      "y = we want to eat  \n",
      "    we want to eat\n",
      "\n",
      "x= tensor([54, 25, 29,  0,  0,  0])\n",
      "y= tensor([54, 25, 29, 52,  0,  0])\n",
      "Data entry 9:\n",
      "x = they want to   \n",
      "y = they want to drink  \n",
      "    they want to drink\n",
      "\n",
      "x= tensor([ 3, 22,  0,  0,  0,  0])\n",
      "y= tensor([ 3, 22, 53,  0,  0,  0])\n",
      "Data entry 10:\n",
      "x = you can    \n",
      "y = you can come   \n",
      "    you can come\n",
      "\n",
      "x= tensor([ 5, 42,  0,  0,  0,  0])\n",
      "y= tensor([ 5, 42, 30,  0,  0,  0])\n",
      "Data entry 11:\n",
      "x = we go    \n",
      "y = we go home   \n",
      "    we go home\n",
      "\n",
      "x= tensor([54, 31, 32,  9,  0,  0])\n",
      "y= tensor([54, 31, 32,  9, 33,  0])\n",
      "Data entry 12:\n",
      "x = they play in the  \n",
      "y = they play in the garden \n",
      "    they play in the garden\n",
      "\n",
      "x= tensor([ 9, 34,  4,  0,  0,  0])\n",
      "y= tensor([ 9, 34,  4, 35,  0,  0])\n",
      "Data entry 13:\n",
      "x = the weather is   \n",
      "y = the weather is nice  \n",
      "    the weather is nice\n",
      "\n",
      "x= tensor([41, 36, 29,  0,  0,  0])\n",
      "y= tensor([41, 36, 29, 37,  0,  0])\n",
      "Data entry 14:\n",
      "x = he drives to   \n",
      "y = he drives to Berlin  \n",
      "    he drives to Berlin\n",
      "\n",
      "x= tensor([40, 38,  7,  0,  0,  0])\n",
      "y= tensor([40, 38,  7, 39,  0,  0])\n",
      "Data entry 15:\n",
      "x = she reads a   \n",
      "y = she reads a book  \n",
      "    she reads a book\n",
      "\n"
     ]
    }
   ],
   "source": [
    "# Create the dataset\n",
    "dataset = SimpleDataset(sentences, vocab, max_len)\n",
    "print(sentences)\n",
    "for entry in dataset:\n",
    "    print(entry)\n",
    "print(\"-------------------------------------------\")\n",
    "# Iterate over the dataset and print the data entries\n",
    "for i in range(len(dataset)):\n",
    "    x, y = dataset[i]\n",
    "    print(\"x=\",x)\n",
    "    print(\"y=\",y)\n",
    "\n",
    "    # Decode x\n",
    "    decoded_x = [vocab[token.item()] for token in x]\n",
    "    print(f\"Data entry {i}:\")\n",
    "    print(f\"x = {' '.join(decoded_x)}\")\n",
    "\n",
    "    # Decode y\n",
    "    decoded_y = [vocab[token.item()] for token in y]\n",
    "    print(f\"y = {' '.join(decoded_y)}\")\n",
    "    print(\"   \", sentences[i])\n",
    "    print()"
   ]
  },
  {
   "cell_type": "code",
   "execution_count": 9,
   "metadata": {
    "colab": {
     "base_uri": "https://localhost:8080/"
    },
    "executionInfo": {
     "elapsed": 234,
     "status": "ok",
     "timestamp": 1724523456945,
     "user": {
      "displayName": "Roland Potthast",
      "userId": "09141136587533247770"
     },
     "user_tz": -120
    },
    "id": "LuEjfplMWLQ_",
    "outputId": "919a8c74-411a-4a0a-b78d-4746f8117ae3"
   },
   "outputs": [
    {
     "name": "stdout",
     "output_type": "stream",
     "text": [
      "0 ) x=\n",
      "\t it is    \n",
      "\t they play in the  \n",
      "\t they want to   \n",
      "\t the weather is   \n",
      "\t I am    \n",
      "\t the weather is   \n",
      "    y=\n",
      "\t it is simple   \n",
      "\t they play in the garden \n",
      "\t they want to drink  \n",
      "\t the weather is nice  \n",
      "\t I am hungry   \n",
      "\t the weather is nice  \n",
      "1 ) x=\n",
      "\t he drives to   \n",
      "\t this is    \n",
      "\t you are    \n",
      "\t we want to   \n",
      "\t we are    \n",
      "\t we go    \n",
      "    y=\n",
      "\t he drives to Berlin  \n",
      "\t this is bad   \n",
      "\t you are tired   \n",
      "\t we want to eat  \n",
      "\t we are happy   \n",
      "\t we go home   \n",
      "2 ) x=\n",
      "\t this was    \n",
      "\t you can    \n",
      "\t they are    \n",
      "\t she reads a   \n",
      "    y=\n",
      "\t this was good   \n",
      "\t you can come   \n",
      "\t they are sad   \n",
      "\t she reads a book  \n"
     ]
    }
   ],
   "source": [
    "n = 0\n",
    "for x, y in dataloader:\n",
    "    print(n, \") x=\")\n",
    "    for seq in x:  # Iterate over each sequence in the batch\n",
    "        decoded_x = [vocab[token.item()] for token in seq.squeeze()]  # Decode the sequence\n",
    "        print(\"\\t\", \" \".join(decoded_x))  # Join decoded words into a single string\n",
    "\n",
    "    print(\"    y=\")\n",
    "    for seq in y:  # Iterate over each target sequence in the batch\n",
    "        decoded_y = [vocab[token.item()] for token in seq.squeeze()]  # Decode the sequence\n",
    "        print(\"\\t\", \" \".join(decoded_y))  # Join decoded words into a single string\n",
    "\n",
    "    n += 1"
   ]
  },
  {
   "cell_type": "code",
   "execution_count": 10,
   "metadata": {
    "colab": {
     "base_uri": "https://localhost:8080/"
    },
    "executionInfo": {
     "elapsed": 252,
     "status": "ok",
     "timestamp": 1724523459979,
     "user": {
      "displayName": "Roland Potthast",
      "userId": "09141136587533247770"
     },
     "user_tz": -120
    },
    "id": "FFxf9X0Yz2tA",
    "outputId": "3e69c262-6e3e-44d9-8730-41d5c1119ab9"
   },
   "outputs": [
    {
     "name": "stdout",
     "output_type": "stream",
     "text": [
      "Vocabulary:\n",
      "1: I 2: am 3: you 4: is 5: we 6: are 7: a 8: an 9: the 10: simple 11: example 12: with 13: and 14: but 15: or 16: not 17: only 18: also 19: how 20: what \n",
      "21: why 22: can 23: must 24: should 25: want 26: has 27: have 28: had 29: to 30: home 31: play 32: in 33: garden 34: weather 35: nice 36: drives 37: Berlin 38: reads 39: book 40: she \n",
      "41: he 42: go 43: hungry 44: tired 45: happy 46: sad 47: it 48: good 49: this 50: bad 51: eat 52: drink 53: come 54: they 55: was \n",
      "\n",
      "Testing tokenization, padding, and decoding:\n",
      "Original Sentence: I am hungry\n",
      "Tokenized: [1, 2, 43]\n",
      "Padded: [1, 2, 43, 0, 0, 0]\n",
      "Decoded: I am hungry   \n",
      "---\n",
      "Original Sentence: you are tired\n",
      "Tokenized: [3, 6, 44]\n",
      "Padded: [3, 6, 44, 0, 0, 0]\n",
      "Decoded: you are tired   \n",
      "---\n",
      "Original Sentence: we are happy\n",
      "Tokenized: [5, 6, 45]\n",
      "Padded: [5, 6, 45, 0, 0, 0]\n",
      "Decoded: we are happy   \n",
      "---\n",
      "Original Sentence: they are sad\n",
      "Tokenized: [54, 6, 46]\n",
      "Padded: [54, 6, 46, 0, 0, 0]\n",
      "Decoded: they are sad   \n",
      "---\n",
      "Original Sentence: it is simple\n",
      "Tokenized: [47, 4, 10]\n",
      "Padded: [47, 4, 10, 0, 0, 0]\n",
      "Decoded: it is simple   \n",
      "---\n",
      "Original Sentence: the weather is nice\n",
      "Tokenized: [9, 34, 4, 35]\n",
      "Padded: [9, 34, 4, 35, 0, 0]\n",
      "Decoded: the weather is nice  \n",
      "---\n",
      "Original Sentence: this is bad\n",
      "Tokenized: [49, 4, 50]\n",
      "Padded: [49, 4, 50, 0, 0, 0]\n",
      "Decoded: this is bad   \n",
      "---\n",
      "Original Sentence: this was good\n",
      "Tokenized: [49, 55, 48]\n",
      "Padded: [49, 55, 48, 0, 0, 0]\n",
      "Decoded: this was good   \n",
      "---\n",
      "Original Sentence: we want to eat\n",
      "Tokenized: [5, 25, 29, 51]\n",
      "Padded: [5, 25, 29, 51, 0, 0]\n",
      "Decoded: we want to eat  \n",
      "---\n",
      "Original Sentence: they want to drink\n",
      "Tokenized: [54, 25, 29, 52]\n",
      "Padded: [54, 25, 29, 52, 0, 0]\n",
      "Decoded: they want to drink  \n",
      "---\n",
      "Original Sentence: you can come\n",
      "Tokenized: [3, 22, 53]\n",
      "Padded: [3, 22, 53, 0, 0, 0]\n",
      "Decoded: you can come   \n",
      "---\n",
      "Original Sentence: we go home\n",
      "Tokenized: [5, 42, 30]\n",
      "Padded: [5, 42, 30, 0, 0, 0]\n",
      "Decoded: we go home   \n",
      "---\n",
      "Original Sentence: they play in the garden\n",
      "Tokenized: [54, 31, 32, 9, 33]\n",
      "Padded: [54, 31, 32, 9, 33, 0]\n",
      "Decoded: they play in the garden \n",
      "---\n",
      "Original Sentence: the weather is nice\n",
      "Tokenized: [9, 34, 4, 35]\n",
      "Padded: [9, 34, 4, 35, 0, 0]\n",
      "Decoded: the weather is nice  \n",
      "---\n",
      "Original Sentence: he drives to Berlin\n",
      "Tokenized: [41, 36, 29, 37]\n",
      "Padded: [41, 36, 29, 37, 0, 0]\n",
      "Decoded: he drives to Berlin  \n",
      "---\n",
      "Original Sentence: she reads a book\n",
      "Tokenized: [40, 38, 7, 39]\n",
      "Padded: [40, 38, 7, 39, 0, 0]\n",
      "Decoded: she reads a book  \n",
      "---\n",
      "Final Data:\n",
      "Sequence 1 \t: [1, 2, 43, 0, 0, 0]\n",
      "\tDecoded : I am hungry   \n",
      "\tOriginal: I am hungry\n",
      "Sequence 2 \t: [3, 6, 44, 0, 0, 0]\n",
      "\tDecoded : you are tired   \n",
      "\tOriginal: you are tired\n",
      "Sequence 3 \t: [5, 6, 45, 0, 0, 0]\n",
      "\tDecoded : we are happy   \n",
      "\tOriginal: we are happy\n",
      "Sequence 4 \t: [54, 6, 46, 0, 0, 0]\n",
      "\tDecoded : they are sad   \n",
      "\tOriginal: they are sad\n",
      "Sequence 5 \t: [47, 4, 10, 0, 0, 0]\n",
      "\tDecoded : it is simple   \n",
      "\tOriginal: it is simple\n",
      "Sequence 6 \t: [9, 34, 4, 35, 0, 0]\n",
      "\tDecoded : the weather is nice  \n",
      "\tOriginal: the weather is nice\n",
      "Sequence 7 \t: [49, 4, 50, 0, 0, 0]\n",
      "\tDecoded : this is bad   \n",
      "\tOriginal: this is bad\n",
      "Sequence 8 \t: [49, 55, 48, 0, 0, 0]\n",
      "\tDecoded : this was good   \n",
      "\tOriginal: this was good\n",
      "Sequence 9 \t: [5, 25, 29, 51, 0, 0]\n",
      "\tDecoded : we want to eat  \n",
      "\tOriginal: we want to eat\n",
      "Sequence 10 \t: [54, 25, 29, 52, 0, 0]\n",
      "\tDecoded : they want to drink  \n",
      "\tOriginal: they want to drink\n",
      "Sequence 11 \t: [3, 22, 53, 0, 0, 0]\n",
      "\tDecoded : you can come   \n",
      "\tOriginal: you can come\n",
      "Sequence 12 \t: [5, 42, 30, 0, 0, 0]\n",
      "\tDecoded : we go home   \n",
      "\tOriginal: we go home\n",
      "Sequence 13 \t: [54, 31, 32, 9, 33, 0]\n",
      "\tDecoded : they play in the garden \n",
      "\tOriginal: they play in the garden\n",
      "Sequence 14 \t: [9, 34, 4, 35, 0, 0]\n",
      "\tDecoded : the weather is nice  \n",
      "\tOriginal: the weather is nice\n",
      "Sequence 15 \t: [41, 36, 29, 37, 0, 0]\n",
      "\tDecoded : he drives to Berlin  \n",
      "\tOriginal: he drives to Berlin\n",
      "Sequence 16 \t: [40, 38, 7, 39, 0, 0]\n",
      "\tDecoded : she reads a book  \n",
      "\tOriginal: she reads a book\n"
     ]
    }
   ],
   "source": [
    "# ------------------------------------------------------------------------------\n",
    "# Testing tokenization, padding, and decoding\n",
    "# ------------------------------------------------------------------------------\n",
    "\n",
    "# Print vocabulary with indices\n",
    "print(\"Vocabulary:\")\n",
    "for jj in range(1, len(vocab)):  # Assuming vocab starts from 1\n",
    "    print(f\"{jj}: {vocab[jj]}\", end=\" \")\n",
    "    if jj % 20 == 0:\n",
    "        print()\n",
    "print(\"\\n\")\n",
    "\n",
    "# Tokenize and pad all sentences\n",
    "max_len = 6\n",
    "mydata = [pad_sequence(tokenize_sentence(sentence, vocab), max_len=max_len) for sentence in sentences]\n",
    "\n",
    "# Test tokenization, padding, and decoding for each sentence\n",
    "print(\"Testing tokenization, padding, and decoding:\")\n",
    "for sentence in sentences:\n",
    "    print(f\"Original Sentence: {sentence}\")\n",
    "\n",
    "    # Tokenization\n",
    "    tokenized = tokenize_sentence(sentence, vocab)\n",
    "    print(f\"Tokenized: {tokenized}\")\n",
    "\n",
    "    # Padding\n",
    "    padded = pad_sequence(tokenized, max_len=max_len)\n",
    "    print(f\"Padded: {padded}\")\n",
    "\n",
    "    # Decoding\n",
    "    decoded = [vocab[id] for id in padded]\n",
    "    print(f\"Decoded: {' '.join(decoded)}\")\n",
    "    print(\"---\")\n",
    "\n",
    "# Iterate over tokenized and padded sequences\n",
    "print(\"Final Data:\")\n",
    "for i, seq in enumerate(mydata):\n",
    "    seq_word = [vocab[jj] for jj in seq]  # Decode the sequence\n",
    "    print(f\"Sequence {i+1} \\t: {seq}\")\n",
    "    print(f\"\\tDecoded : {' '.join(seq_word)}\")\n",
    "    print(f\"\\tOriginal: {sentences[i]}\")\n"
   ]
  },
  {
   "cell_type": "code",
   "execution_count": 11,
   "metadata": {
    "executionInfo": {
     "elapsed": 1,
     "status": "aborted",
     "timestamp": 1724522516517,
     "user": {
      "displayName": "Roland Potthast",
      "userId": "09141136587533247770"
     },
     "user_tz": -120
    },
    "id": "F2G0eUC24-GM"
   },
   "outputs": [
    {
     "data": {
      "image/png": "[encoded data removed]",
      "text/plain": [
       "<Figure size 1200x800 with 2 Axes>"
      ]
     },
     "metadata": {},
     "output_type": "display_data"
    }
   ],
   "source": [
    "# Initialize PositionalEncoding\n",
    "pos_encoding_layer = PositionalEncoding(d_model, max_len)\n",
    "\n",
    "# Extract the positional encodings\n",
    "pos_encoding = pos_encoding_layer.pe.squeeze(1).numpy()\n",
    "\n",
    "# Plot the positional encoding\n",
    "plt.figure(figsize=(12, 8))\n",
    "plt.pcolormesh(pos_encoding, cmap='viridis')\n",
    "plt.xlabel('Depth (Model Dimension)')\n",
    "plt.xlim((0, d_model))\n",
    "plt.ylabel('Position in Sequence')\n",
    "plt.ylim((0, max_len))\n",
    "plt.colorbar(label=\"Encoding Value\")\n",
    "plt.title('Positional Encoding Visualization (PositionalEncoding Class)')\n",
    "plt.show()\n"
   ]
  },
  {
   "cell_type": "code",
   "execution_count": null,
   "metadata": {
    "executionInfo": {
     "elapsed": 1,
     "status": "aborted",
     "timestamp": 1724522516517,
     "user": {
      "displayName": "Roland Potthast",
      "userId": "09141136587533247770"
     },
     "user_tz": -120
    },
    "id": "ZRHPIJYYeW1Y"
   },
   "outputs": [],
   "source": []
  }
 ],
 "metadata": {
  "colab": {
   "authorship_tag": "ABX9TyOqzrZ2Ox1pYCh9SvUgAsLy",
   "provenance": []
  },
  "kernelspec": {
   "display_name": "Python 3 (ipykernel)",
   "language": "python",
   "name": "python3"
  },
  "language_info": {
   "codemirror_mode": {
    "name": "ipython",
    "version": 3
   },
   "file_extension": ".py",
   "mimetype": "text/x-python",
   "name": "python",
   "nbconvert_exporter": "python",
   "pygments_lexer": "ipython3",
   "version": "3.11.7"
  }
 },
 "nbformat": 4,
 "nbformat_minor": 4
}
